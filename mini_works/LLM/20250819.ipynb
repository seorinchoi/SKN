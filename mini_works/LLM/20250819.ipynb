{
 "cells": [
  {
   "cell_type": "code",
   "execution_count": 1,
   "id": "5fe2a0b3",
   "metadata": {},
   "outputs": [],
   "source": [
    "from typing import Annotated, Literal, TypedDict\n",
    "from langchain_core.documents import Document\n",
    "from langchain_core.messages import HumanMessage, SystemMessage\n",
    "from langchain_core.vectorstores.in_memory import InMemoryVectorStore\n",
    "from langchain_openai import ChatOpenAI, OpenAIEmbeddings\n",
    "from langgraph.graph import END, START, StateGraph\n",
    "from langgraph.graph.message import add_messages"
   ]
  },
  {
   "cell_type": "code",
   "execution_count": 2,
   "id": "07b43629",
   "metadata": {},
   "outputs": [],
   "source": [
    "embeddings = OpenAIEmbeddings()"
   ]
  },
  {
   "cell_type": "code",
   "execution_count": 3,
   "id": "c14aa039",
   "metadata": {},
   "outputs": [],
   "source": [
    "model_low_temp = ChatOpenAI(model = 'gpt-5-2025-08-07')\n",
    "model_high_temp = ChatOpenAI(model = 'gpt-5-2025-08-07')"
   ]
  },
  {
   "cell_type": "code",
   "execution_count": 4,
   "id": "3aa2d091",
   "metadata": {},
   "outputs": [],
   "source": [
    "class State(TypedDict):\n",
    "    # 대화 기록\n",
    "    messages: Annotated[list, add_messages]\n",
    "    # 입력\n",
    "    user_query: str\n",
    "    # 출력\n",
    "    domain: Literal['records', 'insurance']\n",
    "    documents: list[Document]\n",
    "    answer: str"
   ]
  },
  {
   "cell_type": "code",
   "execution_count": 5,
   "id": "d1c67f0b",
   "metadata": {},
   "outputs": [],
   "source": [
    "class Input(TypedDict):\n",
    "    user_query : str"
   ]
  },
  {
   "cell_type": "code",
   "execution_count": 6,
   "id": "6c60913f",
   "metadata": {},
   "outputs": [],
   "source": [
    "class Output(TypedDict):\n",
    "    documents : list[Document]\n",
    "    answer : str"
   ]
  },
  {
   "cell_type": "code",
   "execution_count": 7,
   "id": "832bd9f8",
   "metadata": {},
   "outputs": [],
   "source": [
    "sample_docs = [\n",
    "    Document(page_content='''# 환자 의료 기록\n",
    "- 이름: 홍길동\n",
    "- 성별: 남\n",
    "- 나이: 30세\n",
    "## 진료 내역\n",
    "- 2021년 1월 13일: 감기로 인한 발열로 병원 방문\n",
    "- 2022년 3월 15일: 비염 진단으로 약 처방\n",
    "- 2022년 5월 20일: 피부과 진료 및 약 처방\n",
    "- 2022년 6월 10일: 발열 및 기침으로 코로나 검사 및 음성 판정\n",
    "- 2022년 7월 2일: 코로나 진단 검사 및 양성 판정\n",
    "    ''',\n",
    "        metadata={'domain': 'records'}\n",
    "    ),\n",
    "    Document(\n",
    "        page_content='''# 보험 FAQ\n",
    "- Q: 과거에 병력이 있는데 가입가능한가요?\n",
    "- A: 치료기간, 현재 상태, 후유증 여부, 연령 등에 따라 다르므로 가입 가능 여부는 가까운 대리점에서 상담 받으세요.\n",
    "\n",
    "\n",
    "- Q: 보험금 청구 방법은 어떻게 되나요??\n",
    "- A: 보험금 청구는 보험금 청구서 작성 후 가까운 대리점을 통해 진행 가능합니다.\n",
    "\n",
    "\n",
    "- Q: 코로나 19도 보험 적용이 되나요?\n",
    "- A: 코로나 19는 보험 대상에 포함되지 않습니다.\n",
    "\n",
    "\n",
    "- Q: 보험금 지급이 거부되는 경우는 어떤 경우인가요?\n",
    "- A: 보험금 지급 거부 사유는 보험 계약서에 명시되어 있습니다. 자세한 사항은 계약서를 참조하세요\n",
    "        ''',\n",
    "        metadata={'domain': 'insurance'}\n",
    "    ),\n",
    "]"
   ]
  },
  {
   "cell_type": "code",
   "execution_count": 8,
   "id": "0117bf56",
   "metadata": {},
   "outputs": [],
   "source": [
    "medical_records_store = InMemoryVectorStore.from_documents(sample_docs, embeddings)\n",
    "medical_records_retriever = medical_records_store.as_retriever()"
   ]
  },
  {
   "cell_type": "code",
   "execution_count": 9,
   "id": "e392b54b",
   "metadata": {},
   "outputs": [],
   "source": [
    "insurance_faqs_store = InMemoryVectorStore.from_documents(sample_docs, embeddings)\n",
    "insurance_faqs_retriever = insurance_faqs_store.as_retriever()"
   ]
  },
  {
   "cell_type": "code",
   "execution_count": 10,
   "id": "0d41a816",
   "metadata": {},
   "outputs": [],
   "source": [
    "router_prompt = SystemMessage(\n",
    "    '''사용자 문의를 어느 도메인으로 라우팅할지 결정하세요. 선택할 수 있는 두 가지 도메인은 다음과 같습니다.\n",
    "- records: 진단, 치료, 처방과 같은 환자의 의료 기록을 포함합니다.  \n",
    "- insurance: 보험 정책, 청구, 보장에 대한 자주 묻는 질문을 포함합니다.  \n",
    "\n",
    "\n",
    "도메인 이름만 출력하세요.'''\n",
    ")"
   ]
  },
  {
   "cell_type": "code",
   "execution_count": 11,
   "id": "c699364a",
   "metadata": {},
   "outputs": [
    {
     "name": "stderr",
     "output_type": "stream",
     "text": [
      "/tmp/ipykernel_18112/1772522937.py:1: LangGraphDeprecatedSinceV05: `input` is deprecated and will be removed. Please use `input_schema` instead. Deprecated in LangGraph V0.5 to be removed in V2.0.\n",
      "  builder = StateGraph(State, input=Input, output=Output)\n",
      "/tmp/ipykernel_18112/1772522937.py:1: LangGraphDeprecatedSinceV05: `output` is deprecated and will be removed. Please use `output_schema` instead. Deprecated in LangGraph V0.5 to be removed in V2.0.\n",
      "  builder = StateGraph(State, input=Input, output=Output)\n"
     ]
    }
   ],
   "source": [
    "builder = StateGraph(State, input=Input, output=Output)"
   ]
  },
  {
   "cell_type": "code",
   "execution_count": 12,
   "id": "914f1b97",
   "metadata": {},
   "outputs": [],
   "source": [
    "def router_node(state: State) -> State:\n",
    "    user_message = HumanMessage(state['user_query'])\n",
    "    messages = [router_prompt, *state['messages'], user_message]\n",
    "    res = model_low_temp.invoke(messages)\n",
    "    return {\n",
    "        'domain': res.content,\n",
    "        # 대화 기록 업데이트\n",
    "        'messages': [user_message, res],\n",
    "    }\n"
   ]
  },
  {
   "cell_type": "code",
   "execution_count": 13,
   "id": "84870c42",
   "metadata": {},
   "outputs": [
    {
     "data": {
      "text/plain": [
       "<langgraph.graph.state.StateGraph at 0x7fc90cc75f10>"
      ]
     },
     "execution_count": 13,
     "metadata": {},
     "output_type": "execute_result"
    }
   ],
   "source": [
    "builder.add_node('router', router_node)"
   ]
  },
  {
   "cell_type": "code",
   "execution_count": 14,
   "id": "afa8cce5",
   "metadata": {},
   "outputs": [],
   "source": [
    "def pick_retriever(\n",
    "    #retrieve 선택 분기\n",
    "    state: State,\n",
    ") -> Literal['retrieve_medical_records', 'retrieve_insurance_faqs']:\n",
    "    if state['domain'] == 'records':\n",
    "        return 'retrieve_medical_records'\n",
    "    else:\n",
    "        return 'retrieve_insurance_faqs'"
   ]
  },
  {
   "cell_type": "code",
   "execution_count": 15,
   "id": "456a658b",
   "metadata": {},
   "outputs": [],
   "source": [
    "def retrieve_medical_records(state: State) -> State:\n",
    "    documents = medical_records_retriever.invoke(state['user_query'])\n",
    "    return {\n",
    "        'documents': documents,\n",
    "    }\n",
    "\n",
    "def retrieve_insurance_faqs(state: State) -> State:\n",
    "    documents = insurance_faqs_retriever.invoke(state['user_query'])\n",
    "    return {\n",
    "        'documents': documents,\n",
    "    }\n"
   ]
  },
  {
   "cell_type": "code",
   "execution_count": 16,
   "id": "4258aab9",
   "metadata": {},
   "outputs": [
    {
     "data": {
      "text/plain": [
       "<langgraph.graph.state.StateGraph at 0x7fc90cc75f10>"
      ]
     },
     "execution_count": 16,
     "metadata": {},
     "output_type": "execute_result"
    }
   ],
   "source": [
    "builder.add_node('retrieve_medical_records', retrieve_medical_records)\n",
    "builder.add_node('retrieve_insurance_faqs', retrieve_insurance_faqs)"
   ]
  },
  {
   "cell_type": "code",
   "execution_count": 17,
   "id": "d80e592e",
   "metadata": {},
   "outputs": [],
   "source": [
    "medical_records_prompt = SystemMessage(\n",
    "    '당신은 유능한 의료 챗봇입니다. 진단, 치료, 처방과 같은 환자의 의료 기록을 기반으로 질문에 답하세요.'\n",
    ")\n",
    "\n",
    "\n",
    "insurance_faqs_prompt = SystemMessage(\n",
    "    '당신은 유능한 의료 보험 챗봇입니다. 보험 정책, 청구 및 보장에 대한 자주 묻는 질문에 답하세요.'\n",
    ")"
   ]
  },
  {
   "cell_type": "code",
   "execution_count": 18,
   "id": "4e6aaf01",
   "metadata": {},
   "outputs": [],
   "source": [
    "def generate_answer(state: State) -> State:\n",
    "   if state['domain'] == 'records':\n",
    "      prompt = medical_records_prompt\n",
    "   else:\n",
    "      prompt = insurance_faqs_prompt\n",
    "      \n",
    "   \n",
    "   messages = [prompt, *state['messages'], HumanMessage(f\"Dvouments: {state['documents']}\")]\n",
    "   res = model_high_temp.invoke(messages)\n",
    "   return {\n",
    "        'answer': res.content,\n",
    "        'response' : res\n",
    "    }"
   ]
  },
  {
   "cell_type": "code",
   "execution_count": 19,
   "id": "ff49d1d4",
   "metadata": {},
   "outputs": [
    {
     "data": {
      "text/plain": [
       "<langgraph.graph.state.StateGraph at 0x7fc90cc75f10>"
      ]
     },
     "execution_count": 19,
     "metadata": {},
     "output_type": "execute_result"
    }
   ],
   "source": [
    "builder.add_node('generate_answer', generate_answer)\n",
    "builder.add_edge(START, 'router')\n",
    "builder.add_conditional_edges('router', pick_retriever)\n",
    "builder.add_edge('retrieve_medical_records', 'generate_answer')\n",
    "builder.add_edge('retrieve_insurance_faqs', 'generate_answer')\n",
    "builder.add_edge('generate_answer', END)   "
   ]
  },
  {
   "cell_type": "code",
   "execution_count": 20,
   "id": "92874e2c",
   "metadata": {},
   "outputs": [],
   "source": [
    "graph = builder.compile()"
   ]
  },
  {
   "cell_type": "code",
   "execution_count": 21,
   "id": "c2376cf8",
   "metadata": {},
   "outputs": [
    {
     "data": {
      "text/plain": [
       "{'documents': [Document(id='43830897-e360-424d-8743-1db1bcebb76b', metadata={'domain': 'insurance'}, page_content='# 보험 FAQ\\n- Q: 과거에 병력이 있는데 가입가능한가요?\\n- A: 치료기간, 현재 상태, 후유증 여부, 연령 등에 따라 다르므로 가입 가능 여부는 가까운 대리점에서 상담 받으세요.\\n\\n\\n- Q: 보험금 청구 방법은 어떻게 되나요??\\n- A: 보험금 청구는 보험금 청구서 작성 후 가까운 대리점을 통해 진행 가능합니다.\\n\\n\\n- Q: 코로나 19도 보험 적용이 되나요?\\n- A: 코로나 19는 보험 대상에 포함되지 않습니다.\\n\\n\\n- Q: 보험금 지급이 거부되는 경우는 어떤 경우인가요?\\n- A: 보험금 지급 거부 사유는 보험 계약서에 명시되어 있습니다. 자세한 사항은 계약서를 참조하세요\\n        '),\n",
       "  Document(id='2de9e1e8-cdf5-4145-b94b-437c55261ebe', metadata={'domain': 'records'}, page_content='# 환자 의료 기록\\n- 이름: 홍길동\\n- 성별: 남\\n- 나이: 30세\\n## 진료 내역\\n- 2021년 1월 13일: 감기로 인한 발열로 병원 방문\\n- 2022년 3월 15일: 비염 진단으로 약 처방\\n- 2022년 5월 20일: 피부과 진료 및 약 처방\\n- 2022년 6월 10일: 발열 및 기침으로 코로나 검사 및 음성 판정\\n- 2022년 7월 2일: 코로나 진단 검사 및 양성 판정\\n    ')],\n",
       " 'answer': '아니요. 당사 보험 FAQ 기준으로 코로나19는 보험 대상에 포함되지 않습니다. \\n다만 가입하신 상품이나 특약에 따라 예외가 있을 수 있으니, 정확한 보장 여부는 계약서 약관을 확인하시거나 가까운 대리점/고객센터로 문의해 주세요. 필요하시면 가입 상품명이나 증권번호를 알려주시면 확인을 도와드리겠습니다.'}"
      ]
     },
     "execution_count": 21,
     "metadata": {},
     "output_type": "execute_result"
    }
   ],
   "source": [
    "graph.invoke({'user_query':'코로나도 보험 적용이 가능한가요?'})"
   ]
  },
  {
   "cell_type": "code",
   "execution_count": 22,
   "id": "36e06d24",
   "metadata": {},
   "outputs": [],
   "source": [
    "resp = graph.invoke({'user_query':'홍길동의 진료 내용을 알려주세요'})"
   ]
  },
  {
   "cell_type": "code",
   "execution_count": 23,
   "id": "792d6565",
   "metadata": {},
   "outputs": [
    {
     "data": {
      "text/plain": [
       "'홍길동님의 기본 정보\\n- 성별: 남\\n- 나이: 30세\\n\\n진료 내역\\n- 2021-01-13: 감기로 인한 발열로 병원 방문\\n- 2022-03-15: 비염 진단 및 약 처방\\n- 2022-05-20: 피부과 진료 및 약 처방\\n- 2022-06-10: 발열·기침으로 코로나 검사 시행 — 음성\\n- 2022-07-02: 코로나 진단 검사 — 양성\\n\\n추가로 필요한 상세 내용이나 요약 형식이 있으면 알려주세요.'"
      ]
     },
     "execution_count": 23,
     "metadata": {},
     "output_type": "execute_result"
    }
   ],
   "source": [
    "resp['answer']"
   ]
  },
  {
   "cell_type": "code",
   "execution_count": 24,
   "id": "afeddf69",
   "metadata": {},
   "outputs": [],
   "source": [
    "resp = graph.invoke({'user_query':'질문 내역 알려주세요'})"
   ]
  },
  {
   "cell_type": "code",
   "execution_count": 25,
   "id": "ba97b7ca",
   "metadata": {},
   "outputs": [
    {
     "data": {
      "text/plain": [
       "{'documents': [Document(id='31dedc04-d357-40b5-a08e-3ea111b0dfa9', metadata={'domain': 'insurance'}, page_content='# 보험 FAQ\\n- Q: 과거에 병력이 있는데 가입가능한가요?\\n- A: 치료기간, 현재 상태, 후유증 여부, 연령 등에 따라 다르므로 가입 가능 여부는 가까운 대리점에서 상담 받으세요.\\n\\n\\n- Q: 보험금 청구 방법은 어떻게 되나요??\\n- A: 보험금 청구는 보험금 청구서 작성 후 가까운 대리점을 통해 진행 가능합니다.\\n\\n\\n- Q: 코로나 19도 보험 적용이 되나요?\\n- A: 코로나 19는 보험 대상에 포함되지 않습니다.\\n\\n\\n- Q: 보험금 지급이 거부되는 경우는 어떤 경우인가요?\\n- A: 보험금 지급 거부 사유는 보험 계약서에 명시되어 있습니다. 자세한 사항은 계약서를 참조하세요\\n        '),\n",
       "  Document(id='6d22da05-1870-442c-81aa-9d43d9a45140', metadata={'domain': 'records'}, page_content='# 환자 의료 기록\\n- 이름: 홍길동\\n- 성별: 남\\n- 나이: 30세\\n## 진료 내역\\n- 2021년 1월 13일: 감기로 인한 발열로 병원 방문\\n- 2022년 3월 15일: 비염 진단으로 약 처방\\n- 2022년 5월 20일: 피부과 진료 및 약 처방\\n- 2022년 6월 10일: 발열 및 기침으로 코로나 검사 및 음성 판정\\n- 2022년 7월 2일: 코로나 진단 검사 및 양성 판정\\n    ')],\n",
       " 'answer': '제공된 환자 의료 기록의 진료 내역입니다.\\n- 이름: 홍길동, 성별: 남, 나이: 30세\\n- 2021-01-13: 감기로 인한 발열로 병원 방문\\n- 2022-03-15: 비염 진단, 약 처방\\n- 2022-05-20: 피부과 진료, 약 처방\\n- 2022-06-10: 발열·기침, 코로나 검사 음성\\n- 2022-07-02: 코로나 진단 검사 양성\\n\\n추가로 필요한 항목(처방 상세, 검사 수치, 이후 경과 등)이 있으면 알려주세요.'}"
      ]
     },
     "execution_count": 25,
     "metadata": {},
     "output_type": "execute_result"
    }
   ],
   "source": [
    "resp"
   ]
  },
  {
   "cell_type": "code",
   "execution_count": null,
   "id": "90444afa",
   "metadata": {},
   "outputs": [],
   "source": []
  }
 ],
 "metadata": {
  "kernelspec": {
   "display_name": "openai",
   "language": "python",
   "name": "python3"
  },
  "language_info": {
   "codemirror_mode": {
    "name": "ipython",
    "version": 3
   },
   "file_extension": ".py",
   "mimetype": "text/x-python",
   "name": "python",
   "nbconvert_exporter": "python",
   "pygments_lexer": "ipython3",
   "version": "3.12.11"
  }
 },
 "nbformat": 4,
 "nbformat_minor": 5
}
