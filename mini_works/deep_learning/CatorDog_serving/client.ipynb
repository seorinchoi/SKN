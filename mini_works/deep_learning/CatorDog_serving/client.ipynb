{
 "cells": [
  {
   "cell_type": "code",
   "execution_count": 1,
   "id": "15b7de4c",
   "metadata": {},
   "outputs": [],
   "source": [
    "import requests\n",
    "import base64"
   ]
  },
  {
   "cell_type": "code",
   "execution_count": 8,
   "id": "3984e83d",
   "metadata": {},
   "outputs": [],
   "source": [
    "with open(r\"C:\\Users\\Playdata\\workspace\\dog-1443465_1280.jpg\", \"rb\") as f:\n",
    "    img_bytes = f.read()\n",
    "base64_string = base64.b64encode(img_bytes).decode('utf-8')\n",
    "payload = {\n",
    "    'image_data' : base64_string\n",
    "}\n",
    "\n",
    "res = requests.post(\"http://127.0.0.1:8000/predict/\", json=payload)"
   ]
  },
  {
   "cell_type": "code",
   "execution_count": 9,
   "id": "893f1893",
   "metadata": {},
   "outputs": [
    {
     "data": {
      "text/plain": [
       "'{\"message\":\"이 이미지는 강아지입니다!\"}'"
      ]
     },
     "execution_count": 9,
     "metadata": {},
     "output_type": "execute_result"
    }
   ],
   "source": [
    "res.text"
   ]
  },
  {
   "cell_type": "code",
   "execution_count": null,
   "id": "2dd2975d",
   "metadata": {},
   "outputs": [],
   "source": []
  }
 ],
 "metadata": {
  "kernelspec": {
   "display_name": "Python 3",
   "language": "python",
   "name": "python3"
  },
  "language_info": {
   "codemirror_mode": {
    "name": "ipython",
    "version": 3
   },
   "file_extension": ".py",
   "mimetype": "text/x-python",
   "name": "python",
   "nbconvert_exporter": "python",
   "pygments_lexer": "ipython3",
   "version": "3.10.16"
  }
 },
 "nbformat": 4,
 "nbformat_minor": 5
}
