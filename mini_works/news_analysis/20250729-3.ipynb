{
 "cells": [
  {
   "cell_type": "code",
   "execution_count": 1,
   "id": "748742b2",
   "metadata": {},
   "outputs": [
    {
     "name": "stderr",
     "output_type": "stream",
     "text": [
      "/home/seorin0224/workspace/workset/7월/playdata.py:49: SyntaxWarning: invalid escape sequence '\\.'\n",
      "  p = re.compile(\"https://[mn]\\.[a-z]+\\.naver.com/.+\")\n",
      "USER_AGENT environment variable not set, consider setting it to identify your requests.\n"
     ]
    }
   ],
   "source": [
    "from playdata import get_news_sentiment"
   ]
  },
  {
   "cell_type": "code",
   "execution_count": 2,
   "id": "d223c6fd",
   "metadata": {},
   "outputs": [
    {
     "name": "stderr",
     "output_type": "stream",
     "text": [
      "/home/seorin0224/workspace/workset/7월/playdata.py:59: GuessedAtParserWarning: No parser was explicitly specified, so I'm using the best available HTML parser for this system (\"html.parser\"). This usually isn't a problem, but if you run this code on another system, or in a different virtual environment, it may use a different parser and behave differently.\n",
      "\n",
      "The code that caused this warning is on line 59 of the file /home/seorin0224/workspace/workset/7월/playdata.py. To get rid of this warning, pass the additional argument 'features=\"html.parser\"' to the BeautifulSoup constructor.\n",
      "\n",
      "  urls = [x['href'] for x in bs4.BeautifulSoup(requests_json['collection'][0]['html']).find_all(\"a\", {'href' : p})]\n",
      "100%|██████████| 28/28 [01:38<00:00,  3.50s/it]\n"
     ]
    }
   ],
   "source": [
    "result = get_news_sentiment(\"애플\",\"2025.07.22\",\"2025.07.29\")"
   ]
  },
  {
   "cell_type": "code",
   "execution_count": 3,
   "id": "b2635e28",
   "metadata": {},
   "outputs": [
    {
     "data": {
      "text/plain": [
       "[{'sentiment': '부정',\n",
       "  'score': '애플이 중국 시장에서 점유율 하락 등으로 인해 랴오닝성 다롄의 첫 직영매장을 다음 달 폐점하기로 결정했다. 애플의 중국 내 스마트폰 시장 점유율은 5위로 밀려났으며, 상위 4개 브랜드는 모두 중국 업체가 차지했다. 중국 스마트폰 시장 전체도 전년 대비 4% 감소했다.',\n",
       "  'source': 'https://n.news.naver.com/mnews/article/052/0002226146?sid=104'},\n",
       " {'sentiment': '부정',\n",
       "  'score': '애플이 중국 스마트폰 시장에서 점유율 하락을 겪으며, 랴오닝성 다롄의 첫 직영매장 운영을 종료하기로 했다. 애플은 올해 2분기 중국 스마트폰 시장 점유율 5위로 밀려났으며, 상위 4개 브랜드는 모두 중국 업체가 차지했다. 시장 전체도 전년 대비 4% 감소했다.',\n",
       "  'source': 'https://n.news.naver.com/mnews/article/215/0001218062?sid=004'},\n",
       " {'sentiment': '부정',\n",
       "  'score': '애플이 중국 내 첫 직영 매장을 폐점한다는 소식으로, 이는 중국 시장에서의 경쟁 심화와 매출 감소, 주가 하락 등 부정적인 상황을 반영한다. 중국 브랜드들의 강세로 애플의 시장 점유율이 하락하고 있으며, 애플의 중국 매출도 기대에 못 미치는 등 어려움을 겪고 있다.',\n",
       "  'source': 'https://n.news.naver.com/mnews/article/277/0005629646?sid=104'},\n",
       " {'sentiment': '부정',\n",
       "  'score': '애플이 중국 스마트폰 시장에서 점유율 하락으로 인해 처음으로 중국 내 직영매장을 폐점한다. 최근 분기 점유율 순위에서 애플은 5위로 밀려났으며, 1~4위는 모두 화웨이 등 중국 브랜드가 차지했다. 중국 스마트폰 시장 전체도 전년 대비 4% 감소했다.',\n",
       "  'source': 'https://n.news.naver.com/mnews/article/001/0015535683?sid=104'},\n",
       " {'sentiment': '부정',\n",
       "  'score': '애플이 중국 내 아이폰 판매 부진과 현지 브랜드와의 경쟁 심화로 인해 다롄의 한 직영 매장을 다음달 9일 운영 중단하기로 했다. 이로써 다롄에는 애플 매장이 하나만 남게 되었으며, 애플의 중국 내 시장 점유율은 5위에 머물고 있다.',\n",
       "  'source': 'https://n.news.naver.com/mnews/article/003/0013391662?sid=104'},\n",
       " {'sentiment': '긍정',\n",
       "  'score': '엔비디아 주가가 기술 대기업들의 AI 투자 확대 기대감에 힘입어 장중 최고가를 경신했다. 구글이 AI 인프라 투자 확대를 발표한 데 이어, 마이크로소프트, 애플, 메타, 아마존 등도 실적 발표를 앞두고 있어 이들의 자본 지출 확대 여부가 주목받고 있다. 이러한 대기업들의 AI 관련 지출 증가는 엔비디아 칩 수요와 매출 증가로 이어질 수 있다는 긍정적인 전망이 시장에 반영되고 있다.',\n",
       "  'source': 'https://n.news.naver.com/mnews/article/001/0015534881?sid=104'},\n",
       " {'sentiment': '긍정',\n",
       "  'score': '엔비디아의 주가가 마이크로소프트, 애플 등 주요 기술 기업의 실적 발표를 앞두고 장중 최고가를 경신했다. 이달 초 대비 약 15% 상승했으며, 시가총액도 크게 증가했다. 구글의 AI 투자 확대 소식과 함께 다른 대형 기술 기업들의 AI 관련 지출 증가 기대감이 엔비디아 주가 상승에 긍정적으로 작용한 것으로 분석된다.',\n",
       "  'source': 'https://n.news.naver.com/mnews/article/055/0001279245?sid=101'},\n",
       " {'sentiment': '긍정',\n",
       "  'score': '엔비디아 주가가 사상 처음으로 175달러를 돌파하며 이달에만 15% 상승했다. 구글이 AI 인프라 투자를 확대하고, MS·애플 등 주요 기술기업의 실적 발표를 앞두고 기술 대기업의 지출 확대 기대감이 커지고 있다. 이러한 투자 확대는 엔비디아 칩 구매 증가로 이어질 수 있어 시장에 긍정적으로 작용하고 있다.',\n",
       "  'source': 'https://n.news.naver.com/mnews/article/119/0002984753?sid=101'},\n",
       " {'sentiment': '긍정',\n",
       "  'score': '엔비디아 주가가 기술 대기업들의 AI 투자 확대 기대감에 힘입어 사상 처음으로 175달러를 돌파했다. 구글이 AI 인프라 투자를 늘린 데 이어, 마이크로소프트, 애플, 메타, 아마존 등도 실적 발표를 앞두고 있어 이들의 자본 지출 확대가 엔비디아 칩 수요 증가로 이어질 수 있다는 기대가 반영됐다. 엔비디아의 시가총액도 크게 증가했으며, AI 관련 대기업들의 투자 확대가 긍정적으로 평가되고 있다.',\n",
       "  'source': 'https://n.news.naver.com/mnews/article/001/0015534911?sid=104'},\n",
       " {'sentiment': '긍정',\n",
       "  'score': '엔비디아 주가가 주요 기술 대기업들의 실적 발표를 앞두고 사상 처음으로 175달러를 돌파하며 크게 상승했다. 구글 등 대형 IT 기업들이 AI 인프라 투자를 확대하고 있어 엔비디아 칩 수요가 증가할 것으로 기대된다. 이로 인해 엔비디아의 시가총액도 크게 늘었으며, 향후 MS, 메타, 애플, 아마존 등의 실적과 자본 지출 확대 여부가 시장의 관심을 받고 있다.',\n",
       "  'source': 'https://n.news.naver.com/mnews/article/052/0002225931?sid=104'},\n",
       " {'sentiment': '긍정',\n",
       "  'score': '삼성전자가 2024년 2분기 미국 스마트폰 시장에서 출하량을 38% 늘리며 점유율 31%를 기록, 애플과의 격차를 크게 좁혔다. 이는 주로 갤럭시 A 시리즈 등 중저가 제품군의 판매 호조와 재고 확대 전략에 기인한다. 반면 애플은 출하량이 11% 감소해 점유율이 50% 아래로 떨어졌다. 미국 스마트폰 시장은 전체적으로 성장 정체를 보였으나, 삼성의 성과는 시장 구도 변화 가능성을 시사한다.',\n",
       "  'source': 'https://n.news.naver.com/mnews/article/138/0002201582?sid=105'},\n",
       " {'sentiment': '중립',\n",
       "  'score': '삼성전자가 2024년 2분기 미국 스마트폰 시장에서 점유율 31%로 전년 대비 성장하며 애플과의 격차를 줄였다. 삼성의 갤럭시 A 시리즈 판매가 성장세를 견인했고, 애플은 공급망을 인도로 전환했다. 미국 전체 스마트폰 출하량은 1% 증가에 그쳐 시장 수요는 여전히 부진한 것으로 나타났다.',\n",
       "  'source': 'https://n.news.naver.com/mnews/article/654/0000134014?sid=101'},\n",
       " {'sentiment': '중립',\n",
       "  'score': '2024년 2분기 미국 스마트폰 시장에서 삼성전자의 점유율이 31%로 크게 상승하며 애플과의 격차가 18%포인트로 줄었다. 애플은 49%로 1위였으나 점유율과 출하량이 감소했고, 삼성은 출하량이 38% 증가했다. 인도산 스마트폰 수입이 크게 늘었으며, 이는 미중 무역 환경 변화에 따른 공급망 전환의 결과로 분석된다. 전체 시장 수요는 1% 증가에 그쳐 정체된 모습을 보였다.',\n",
       "  'source': 'https://n.news.naver.com/mnews/article/001/0015536679?sid=105'},\n",
       " {'sentiment': '긍정',\n",
       "  'score': '애플 에어팟을 닮은 가방이 미국 패션 브랜드 브레이브스트 스튜디오에서 출시되어 온라인에서 큰 화제를 모았으며, 팝업 행사와 공식 홈페이지에서 모두 빠르게 완판되었다. 제품은 에어팟 충전 케이스와 이어버드를 정교하게 재현했고, 넉넉한 크기와 독특한 디자인으로 주목받았다.',\n",
       "  'source': 'https://n.news.naver.com/mnews/article/014/0005383742?sid=104'},\n",
       " {'sentiment': '긍정',\n",
       "  'score': '롯데하이마트와 롯데백화점이 애플, 다이슨 등 글로벌 브랜드와 협업해 전국적으로 공식 서비스 접수 및 수리 매장을 확대하고 있다. 하이마트는 110개 점포에서 애플 제품 수리 접수를 시작하고, 국내 최초로 애플 전용 진단 프로그램도 도입한다. 롯데백화점은 다이슨 서비스 매장을 열고, 애플 서비스 매장도 확대 중이다. 이를 통해 고객 접근성과 만족도를 높이고, 신규 고객 유입 및 연계 구매 효과를 기대하고 있다. 전반적으로 서비스 경쟁력 강화와 고객 경험 개선에 초점을 맞춘 긍정적인 내용이다.',\n",
       "  'source': 'https://n.news.naver.com/mnews/article/009/0005531940?sid=101'},\n",
       " {'sentiment': '긍정',\n",
       "  'score': '롯데하이마트가 전국 110개 점포에서 애플 공인 서비스 접수 대행을 실시해 고객 접근성을 높인다. 주말을 포함해 연중 대부분 이용 가능하며, 자사에서 구매하지 않은 제품도 접수할 수 있다. 현장 진단 프로그램을 통해 빠른 문제 파악과 해결이 가능하다. 롯데하이마트는 앞으로도 서비스 점포를 확대할 계획이다.',\n",
       "  'source': 'https://n.news.naver.com/mnews/article/382/0001213155?sid=101'},\n",
       " {'sentiment': '부정',\n",
       "  'score': '일본 재팬디스플레이(JDI)가 애플워치용 OLED 사업에서 철수하고, 주요 생산기지인 모바라 공장의 생산을 2026년 3월 중단하며 설비를 매각하기로 했다. 이로 인해 JDI의 애플 관련 매출은 사실상 사라질 전망이다. JDI의 철수로 LG디스플레이가 애플워치 OLED를 단독 공급할 가능성이 높아졌으며, JDI의 일부 설비는 중국 HKC에 매각될 예정이다.',\n",
       "  'source': 'https://n.news.naver.com/mnews/article/030/0003335812?sid=105'},\n",
       " {'sentiment': '부정',\n",
       "  'score': '일본의 주요 디스플레이 기업들이 통합해 만든 재팬디스플레이(JDI)가 주력 공장인 모바라 공장을 올해 중 폐쇄하고, 생산 설비를 중국 업체에 매각하기로 했다. 애플 관련 매출이 급감하고, 공장 가동률이 떨어진 것이 원인이다. JDI는 한때 일본 디스플레이 산업의 부활을 이끌 것으로 기대됐으나, 한국과 중국의 기술력에 밀려 어려움을 겪고 있다.',\n",
       "  'source': 'https://n.news.naver.com/mnews/article/009/0005532192?sid=101'},\n",
       " {'sentiment': '부정',\n",
       "  'score': '재팬디스플레이(JDI)가 경영난으로 인해 지바현 모바라공장의 생산을 조기 종료하고, 설비를 매각하기로 했다. 애플워치용 패널 생산에서도 철수하며, 한때 매출의 60%를 차지했던 애플향 공급이 중단된다. 일본 정부의 지원에도 불구하고 JDI는 기대에 미치지 못하는 성과로 산업 재편 프로젝트가 실패로 끝날 전망이다.',\n",
       "  'source': 'https://n.news.naver.com/mnews/article/014/0005383385?sid=104'},\n",
       " {'sentiment': '부정',\n",
       "  'score': '일본 액정패널 기업 JDI가 지바현 모바라시 공장의 생산을 종료하고 제조 설비를 중국 기업 등에 매각하기로 했다. 애플워치 관련 사업에서도 철수하며, 한때 매출의 60%를 차지했던 애플용 제품 생산도 중단한다. JDI는 적자 누적으로 구조조정을 추진 중이며, 일본 디스플레이 산업의 부활을 이끌 것으로 기대됐으나 경쟁 심화로 어려움을 겪고 있다.',\n",
       "  'source': 'https://n.news.naver.com/mnews/article/001/0015534260?sid=104'},\n",
       " {'sentiment': '중립',\n",
       "  'score': '애플이 9월 출시 예정인 아이폰17 프로 모델에 8배 광학 줌, 새로운 프로 카메라 앱, 추가 카메라 제어 버튼 등 카메라 성능을 대폭 강화할 것으로 예상된다. 카메라 성능 향상으로 인해 카메라 섬이 커져 디자인에 대한 우려도 제기되고 있다. 업계에서는 일부 기능 도입에 신중한 전망을 내놓고 있으며, 애플이 카메라 성능 개선에 집중해 영상·사진 촬영 기능을 강화하려는 전략으로 해석된다.',\n",
       "  'source': 'https://n.news.naver.com/mnews/article/003/0013389842?sid=105'},\n",
       " {'sentiment': '긍정',\n",
       "  'score': '롯데하이마트가 국내 유통업체 최초로 전국 89개 점포에서 애플 공인 서비스 접수 대행을 시작했다. 기존 21개 점포의 현장 수리 서비스와 더불어 총 110개 점포에서 애플 제품 수리 접수가 가능해졌다. 또한, 애플과 협업해 사전 진단 프로그램을 도입하여 현장에서 신속한 문제 진단과 해결이 가능해졌다. 롯데하이마트는 앞으로도 서비스 운영 점포를 확대할 계획이며, 고객 편의성이 크게 향상될 것으로 기대된다.',\n",
       "  'source': 'https://n.news.naver.com/mnews/article/277/0005628480?sid=101'},\n",
       " {'sentiment': '긍정',\n",
       "  'score': '롯데하이마트가 애플과 협력해 전국 110개 매장에서 애플 제품 사후서비스(AS) 접수 대행을 시작했다. 업계 최초로 애플 공식 인증을 받은 서비스로, 사전 진단 프로그램을 도입해 고객 편의성을 높였다. 롯데하이마트에서 구매하지 않은 애플 제품도 서비스 신청이 가능하며, 원스톱으로 접수부터 수령까지 절차가 간소화된다. 롯데하이마트는 이번 서비스를 계기로 글로벌 브랜드 수리 서비스 강화에 나설 계획이다.',\n",
       "  'source': 'https://n.news.naver.com/mnews/article/030/0003335431?sid=101'},\n",
       " {'sentiment': '긍정',\n",
       "  'score': '롯데하이마트가 전국 110개 점포에서 애플 공식 서비스 접수 대행 서비스를 시작한다. 이는 국내 유통업체 최초로, 애플 제품을 어디서 구매했든 수리 접수가 가능해 고객 편의성이 크게 향상된다. 현장 진단 프로그램 도입과 다양한 브랜드 수리 서비스 확대를 통해 신규 고객 유입과 서비스 경쟁력 강화가 기대된다.',\n",
       "  'source': 'https://n.news.naver.com/mnews/article/293/0000070330?sid=101'},\n",
       " {'sentiment': '긍정',\n",
       "  'score': '롯데하이마트가 국내 유통업계 최초로 애플 공인 서비스 접수 대행을 전국 110개 점포로 확대하고, 롯데백화점도 다이슨 서비스 매장을 개점하는 등 프리미엄 가전 사후서비스를 강화하고 있다. 이를 통해 고객 접근성과 경험을 개선하고, 글로벌 브랜드와의 협력으로 서비스 경쟁력을 높여 고객 충성도를 확보하려는 전략을 추진 중이다.',\n",
       "  'source': 'https://n.news.naver.com/mnews/article/009/0005531793?sid=101'},\n",
       " {'sentiment': '긍정',\n",
       "  'score': '롯데하이마트가 전국 89개 점포에서 애플 공인 서비스 접수 대행을 시작해, 총 110개 점포에서 애플 제품 수리 서비스 접수가 가능해졌다. 국내 유통업체 중 최초로 애플 공식 인증 수리 접수 대행 서비스를 도입했으며, 주말에도 이용할 수 있고, 롯데하이마트에서 구매하지 않은 제품도 접수할 수 있다. 또한, 애플 전용 사전 진단 프로그램을 도입해 현장에서 문제를 빠르게 파악하고, 필요시 수리 접수를 진행한다. 롯데하이마트는 이번 서비스를 통해 해외 브랜드 수리 서비스 강화와 고객 편의성 증대를 목표로 하고 있다.',\n",
       "  'source': 'https://n.news.naver.com/mnews/article/366/0001095897?sid=101'},\n",
       " {'sentiment': '부정',\n",
       "  'score': '정부가 도입한 소비쿠폰 제도가 복잡한 사용 기준과 온라인상의 가짜 정보 확산, 부적절한 사용 사례 등으로 인해 소비자와 소상공인 모두 혼란을 겪고 있다. SNS를 통한 잘못된 정보와 부정적 시각, 불법 유통에 대한 단속 강화 등 부정적인 이슈가 부각되고 있다.',\n",
       "  'source': 'https://n.news.naver.com/mnews/article/015/0005163090?sid=101'},\n",
       " {'sentiment': '중립',\n",
       "  'score': '중국 스마트폰 시장에서 2분기 애플의 출하량이 전년 대비 4% 증가하며 성장세로 돌아섰고, 화웨이는 출하량 1220만대로 1위 자리를 되찾았다. 애플은 가격 전략과 할인 행사로 성장했으며, 화웨이는 첨단 칩 탑재와 애국 소비 열풍, 자체 OS 확대 등으로 시장 점유율을 높였다. 애플은 중국 내 경쟁 심화와 지정학적 리스크로 주가가 하락했으나, 시장 내 성과에 투자자들의 관심이 집중되고 있다.',\n",
       "  'source': 'https://n.news.naver.com/mnews/article/293/0000070380?sid=105'}]"
      ]
     },
     "execution_count": 3,
     "metadata": {},
     "output_type": "execute_result"
    }
   ],
   "source": [
    "result"
   ]
  },
  {
   "cell_type": "code",
   "execution_count": null,
   "id": "8c2a91ef",
   "metadata": {},
   "outputs": [],
   "source": []
  }
 ],
 "metadata": {
  "kernelspec": {
   "display_name": "openai",
   "language": "python",
   "name": "python3"
  },
  "language_info": {
   "codemirror_mode": {
    "name": "ipython",
    "version": 3
   },
   "file_extension": ".py",
   "mimetype": "text/x-python",
   "name": "python",
   "nbconvert_exporter": "python",
   "pygments_lexer": "ipython3",
   "version": "3.12.11"
  }
 },
 "nbformat": 4,
 "nbformat_minor": 5
}
