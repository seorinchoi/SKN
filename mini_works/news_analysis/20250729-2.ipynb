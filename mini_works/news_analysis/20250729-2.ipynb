{
 "cells": [
  {
   "cell_type": "markdown",
   "id": "5bb64a7e",
   "metadata": {},
   "source": [
    "## Langchain으로 신문 기사 가져오기"
   ]
  },
  {
   "cell_type": "code",
   "execution_count": 42,
   "id": "face2b34",
   "metadata": {},
   "outputs": [],
   "source": [
    "import bs4\n",
    "from langchain_community.document_loaders import WebBaseLoader\n",
    "url = \"https://m.sports.naver.com/wfootball/article/076/0004305450\""
   ]
  },
  {
   "cell_type": "code",
   "execution_count": 43,
   "id": "14a38772",
   "metadata": {},
   "outputs": [],
   "source": [
    "loader = WebBaseLoader(web_path=(url,))"
   ]
  },
  {
   "cell_type": "code",
   "execution_count": 44,
   "id": "9a8f81bb",
   "metadata": {},
   "outputs": [],
   "source": [
    "document = loader.load()"
   ]
  },
  {
   "cell_type": "code",
   "execution_count": 45,
   "id": "f4a6a755",
   "metadata": {},
   "outputs": [
    {
     "data": {
      "text/plain": [
       "[Document(metadata={'source': 'https://m.sports.naver.com/wfootball/article/076/0004305450', 'title': '\\'굿바이 SON, 안녕 토트넘\\' 손흥민 오피셜 나오나...BBC급 정보력 \"LA FC 협상 진전\"', 'language': 'ko'}, page_content='\\'굿바이 SON, 안녕 토트넘\\' 손흥민 오피셜 나오나...BBC급 정보력 \"LA FC 협상 진전\"NAVER스포츠메뉴홈야구해외야구축구해외축구농구배구N골프일반e스포츠아웃도어NEW뉴스영상일정순위포토홈 바로가기NAVER스포츠마이팀팀 추가응원하는 팀을 구독해보세요!스포츠야구해외야구축구해외축구농구배구N골프일반e스포츠아웃도어콘텐츠오늘의 경기승부예측연재이슈톡대학스포츠랭킹기타고객센터공식 블로그메뉴 닫기본문 바로가기\\'굿바이 SON, 안녕 토트넘\\' 손흥민 오피셜 나오나...BBC급 정보력 \"LA FC 협상 진전\"입력2025.07.29. 오전 11:40기사원문공감좋아요0슬퍼요0화나요0팬이에요0후속기사 원해요0텍스트 음성 변환 서비스본문 듣기를 종료하였습니다.글자 크기 변경공유하기<저작권자(c) 연합뉴스, 무단 전재-재배포, AI 학습 및 활용 금지>[스포츠조선 김대식 기자]손흥민의 미국행이 진전되고 있는 것으로 보인다. 토트넘과의 이별이 다가오고 있는 게 느껴진다.현재 손흥민을 영입을 적극적으로 추진하고 있는 구단은 로스엔젤레스(LA) FC다. LA FC가 손흥민에게 접근했다는 소식은 지난 24일(이하 한국시각) 확인됐다. 당시 영국 디 애슬래틱은 \\'복수의 소식통에 따르면, LA FC가 토트넘의 손흥민을 여름 이적시장에서 영입하기 위해 강하게 추진하고 있다. 손흥민에 대한 LA FC의 관심은 이미 보도된 바 있지만, LAFC는 향후 몇 주 안에 이 한국 국가대표를 리그로 데려오기 위해 강하게 밀어붙이고 있다\\'고 보도했다.<저작권자(c) 연합뉴스, 무단 전재-재배포, AI 학습 및 활용 금지>디 애슬래틱의 보도가 나왔을 때만 해도 협상은 초기 단계였지만 이제는 협상의 속도가 붙고 있는 모양새다. 스페인 아스는 28일 \\'LA FC가 손흥민을 영입하려 하고 있으며, 존 소링턴 LA FC 단장은 최근 손흥민의 이적 협상을 위해 직접 움직였다. 모든 것이 순조롭게 진행되고 있으며, 우리가 입수한 정보에 따르면 LA FC는 손흥민과 토트넘 양측과의 협상에서 이미 마무리 단계에 접어들었다\\'며 손흥민과 LA FC의 협상이 곧 마무리된다고 전망했다.선수와 구단의 개인 합의가 끝나면 LA FC가 토트넘과 협상을 진행하는 단계로 이어진다. 토트넘이 손흥민의 의사를 존중하기로 결정했기 때문에 이적료 관련 대화는 큰 어려움이 없을 것으로 보인다.<저작권자(c) 연합뉴스, 무단 전재-재배포, AI 학습 및 활용 금지>아스뿐만 아니라 유력 기자를 통해서도 손흥민의 LA FC행이 또 거론됐다. 미국메이저리그사커(MLS) 정보력에 능통한 톰 보거트 기자는 29일 영국 기브미 스포츠를 통해 \\'LA FC가 토트넘 홋스퍼 주장 손흥민의 영입을 두고 협상을 진전시키고 있다. LA FC는 여름 이적시장 말미에 손흥민 영입이 가능하다고 보고 있으며, 현재 손흥민 측과의 개인 조건 협상에서 마무리 단계에 접어들고 있다\\'고 밝혔다.선수와 구단의 개인 협상은 선수의 의지가 없으면 절대로 성사될 수 없다. 즉 손흥민이 토트넘을 떠나서 미국으로 향할 마음이 있기 때문에 협상이 진행되고 있는 것이다. 손흥민 스스로도 유로파리그(UEL) 우승으로 토트넘에서의 마지막 퍼즐을 맞췄기 때문에 새로운 시대를 위해 자리를 비켜주려고 마음을 먹은 것처럼 보인다.<저작권자(c) 연합뉴스, 무단 전재-재배포, AI 학습 및 활용 금지>손흥민의 LA FC 이적이 빠른 시간 안에 성사된다고 해도, 공식 발표는 늦어질 전망이다. 토트넘이 한국 투어를 앞두고 있기 때문이다. 보거트 기자는 \\'손흥민은 현재 토트넘의 아시아 프리시즌 투어에 참여 중이며, 계약상 8월 3일 한국에서 열리는 뉴캐슬 유나이티드와의 친선경기에 출전해야 한다. 이 경기 전에 손흥민을 매각할 경우, 토트넘은 상당한 상업적 수익을 잃게 된다. 소식통에 따르면, 이 경기 이전에는 공식적인 발표가 이뤄지지 않을 것으로 보인다\\'고 설명했다. 토트넘과 뉴캐슬의 경기가 열리기 전에 손흥민이 토트넘을 떠나게 될 경우, 토트넘은 계약으로 체결된 경기 수당의 75%를 포기해야 하는 것으로 파악되고 있다. 한국에 대한 애정이 엄청난 손흥민이기에 굳이 문제를 일으키려고 하지 않을 것이다. <저작권자(c) 연합뉴스, 무단 전재-재배포, AI 학습 및 활용 금지>손흥민과 토트넘 그리고 LA FC 사이의 마지막 변수는 손흥민과 토마스 프랭크 감독의 대화다. 손흥민은 7월 중순에 팀에 복귀했지만 아직까지 프랭크 감독과는 따로 대화를 나누지 않은 것으로 이야기가 나오고 있다.기브미 스포츠는 \\'손흥민이 런던으로 복귀한 후, 그는 프랭크 감독과 올 시즌 자신의 역할과 출전 시간에 대해 논의할 예정이다. 토트넘은 손흥민을 올 시즌까지 보유한 뒤 자유계약으로 떠나게 하는 데에도 만족하지만, 33세인 그가 새로운 도전을 원한다면 이적을 막지는 않을 계획이다. 손흥민은 토트넘 라커룸에서도 인기 있는 인물이며, 경기 내외적으로 매우 높은 평가를 받고 있다. 그렇기 때문에 구단은 손흥민이 지금 떠나기를 원하든, 1년 더 남기를 원하든 그 결정을 존중할 계획이다\\'고 덧붙였다. <저작권자(c) 연합뉴스, 무단 전재-재배포, AI 학습 및 활용 금지>손흥민은 토트넘 역사상 가장 상징적인 선수 중 한 명으로 평가받는다. 2015년 여름 바이엘 레버쿠젠을 떠나 토트넘에 입단한 그는, 약 10년 동안 클럽의 주축 공격수로 활약하며 토트넘을 대표하는 얼굴로 자리 잡았다. 프리미어리그(EPL) 득점왕, 발롱도르 11위, EPL 올해의 팀 등 손흥민은 토트넘에서 아시아 역대 최고 공격수로서 인정받았다. 지난 시즌 UEL 트로피까지 주장으로서 들어올리면서 구단 역대 최고 레전드 반열에 이름을 올리게 됐다. 어쩌면 한국 투어가 토트넘 소속인 손흥민의 모습을 보는 마지막이 될 수 있다. 김대식 기자구독 0응원 0구독\\'日 국대 기대주\\' 가수 김정민 차남, 연예인 아들+한국→일본행에 현지 관심 폭발...\"롤모델은 엘링 홀란\"\\'박지성 대체 실패\\' 맨유서 망한 일본 슈퍼스타 미친 근황, 36살에 \\'포변\\' 완벽 성공 \"유럽 경험 덕분\"스포츠조선언론사홈 바로가기Copyright ⓒ 스포츠조선. All rights reserved. 무단 전재 및 재배포 금지.기사 섹션 분류 가이드기사 섹션 분류 안내스포츠 기사 섹션(종목) 정보는 언론사 분류와 기술 기반의 자동 분류 시스템을 따르고 있습니다. 오분류에 대한 건은 네이버스포츠로 제보 부탁드립니다.오분류 제보하기닫기내 인생의 흐름이 궁금하다면? 무료 평생사주주요뉴스해당 언론사에서 선정하며 언론사 페이지(아웃링크)로 이동해 볼 수 있습니다.이하늬, 상반신 전체 노출 촬영에 분노..보이콧 선언KBS 전 아나운서, 폐암→암세포 뇌 전이 사망..오늘(25일) 7주기12명에 성폭행 당한 단역배우 자매 사망..母 \"딸을 죽인 건 경찰\"윤영미, 돌아가신 엄마 유산 받아 韓 떠났다 \"에르메스 대신 아들\"엄마와 딸 전남친이 수상한 관계라니..\"돈봉투 내밀며 쩔쩔\"좋아요0슬퍼요0화나요0팬이에요0후속기사 원해요0')]"
      ]
     },
     "execution_count": 45,
     "metadata": {},
     "output_type": "execute_result"
    }
   ],
   "source": [
    "document"
   ]
  },
  {
   "cell_type": "code",
   "execution_count": 46,
   "id": "7a6e117b",
   "metadata": {},
   "outputs": [
    {
     "name": "stdout",
     "output_type": "stream",
     "text": [
      "'굿바이 SON, 안녕 토트넘' 손흥민 오피셜 나오나...BBC급 정보력 \"LA FC 협상 진전\"NAVER스포츠메뉴홈야구해외야구축구해외축구농구배구N골프일반e스포츠아웃도어NEW뉴스영상일정순위포토홈 바로가기NAVER스포츠마이팀팀 추가응원하는 팀을 구독해보세요!스포츠야구해외야구축구해외축구농구배구N골프일반e스포츠아웃도어콘텐츠오늘의 경기승부예측연재이슈톡대학스포츠랭킹기타고객센터공식 블로그메뉴 닫기본문 바로가기'굿바이 SON, 안녕 토트넘' 손흥민 오피셜 나오나...BBC급 정보력 \"LA FC 협상 진전\"입력2025.07.29. 오전 11:40기사원문공감좋아요0슬퍼요0화나요0팬이에요0후속기사 원해요0텍스트 음성 변환 서비스본문 듣기를 종료하였습니다.글자 크기 변경공유하기<저작권자(c) 연합뉴스, 무단 전재-재배포, AI 학습 및 활용 금지>[스포츠조선 김대식 기자]손흥민의 미국행이 진전되고 있는 것으로 보인다. 토트넘과의 이별이 다가오고 있는 게 느껴진다.현재 손흥민을 영입을 적극적으로 추진하고 있는 구단은 로스엔젤레스(LA) FC다. LA FC가 손흥민에게 접근했다는 소식은 지난 24일(이하 한국시각) 확인됐다. 당시 영국 디 애슬래틱은 '복수의 소식통에 따르면, LA FC가 토트넘의 손흥민을 여름 이적시장에서 영입하기 위해 강하게 추진하고 있다. 손흥민에 대한 LA FC의 관심은 이미 보도된 바 있지만, LAFC는 향후 몇 주 안에 이 한국 국가대표를 리그로 데려오기 위해 강하게 밀어붙이고 있다'고 보도했다.<저작권자(c) 연합뉴스, 무단 전재-재배포, AI 학습 및 활용 금지>디 애슬래틱의 보도가 나왔을 때만 해도 협상은 초기 단계였지만 이제는 협상의 속도가 붙고 있는 모양새다. 스페인 아스는 28일 'LA FC가 손흥민을 영입하려 하고 있으며, 존 소링턴 LA FC 단장은 최근 손흥민의 이적 협상을 위해 직접 움직였다. 모든 것이 순조롭게 진행되고 있으며, 우리가 입수한 정보에 따르면 LA FC는 손흥민과 토트넘 양측과의 협상에서 이미 마무리 단계에 접어들었다'며 손흥민과 LA FC의 협상이 곧 마무리된다고 전망했다.선수와 구단의 개인 합의가 끝나면 LA FC가 토트넘과 협상을 진행하는 단계로 이어진다. 토트넘이 손흥민의 의사를 존중하기로 결정했기 때문에 이적료 관련 대화는 큰 어려움이 없을 것으로 보인다.<저작권자(c) 연합뉴스, 무단 전재-재배포, AI 학습 및 활용 금지>아스뿐만 아니라 유력 기자를 통해서도 손흥민의 LA FC행이 또 거론됐다. 미국메이저리그사커(MLS) 정보력에 능통한 톰 보거트 기자는 29일 영국 기브미 스포츠를 통해 'LA FC가 토트넘 홋스퍼 주장 손흥민의 영입을 두고 협상을 진전시키고 있다. LA FC는 여름 이적시장 말미에 손흥민 영입이 가능하다고 보고 있으며, 현재 손흥민 측과의 개인 조건 협상에서 마무리 단계에 접어들고 있다'고 밝혔다.선수와 구단의 개인 협상은 선수의 의지가 없으면 절대로 성사될 수 없다. 즉 손흥민이 토트넘을 떠나서 미국으로 향할 마음이 있기 때문에 협상이 진행되고 있는 것이다. 손흥민 스스로도 유로파리그(UEL) 우승으로 토트넘에서의 마지막 퍼즐을 맞췄기 때문에 새로운 시대를 위해 자리를 비켜주려고 마음을 먹은 것처럼 보인다.<저작권자(c) 연합뉴스, 무단 전재-재배포, AI 학습 및 활용 금지>손흥민의 LA FC 이적이 빠른 시간 안에 성사된다고 해도, 공식 발표는 늦어질 전망이다. 토트넘이 한국 투어를 앞두고 있기 때문이다. 보거트 기자는 '손흥민은 현재 토트넘의 아시아 프리시즌 투어에 참여 중이며, 계약상 8월 3일 한국에서 열리는 뉴캐슬 유나이티드와의 친선경기에 출전해야 한다. 이 경기 전에 손흥민을 매각할 경우, 토트넘은 상당한 상업적 수익을 잃게 된다. 소식통에 따르면, 이 경기 이전에는 공식적인 발표가 이뤄지지 않을 것으로 보인다'고 설명했다. 토트넘과 뉴캐슬의 경기가 열리기 전에 손흥민이 토트넘을 떠나게 될 경우, 토트넘은 계약으로 체결된 경기 수당의 75%를 포기해야 하는 것으로 파악되고 있다. 한국에 대한 애정이 엄청난 손흥민이기에 굳이 문제를 일으키려고 하지 않을 것이다. <저작권자(c) 연합뉴스, 무단 전재-재배포, AI 학습 및 활용 금지>손흥민과 토트넘 그리고 LA FC 사이의 마지막 변수는 손흥민과 토마스 프랭크 감독의 대화다. 손흥민은 7월 중순에 팀에 복귀했지만 아직까지 프랭크 감독과는 따로 대화를 나누지 않은 것으로 이야기가 나오고 있다.기브미 스포츠는 '손흥민이 런던으로 복귀한 후, 그는 프랭크 감독과 올 시즌 자신의 역할과 출전 시간에 대해 논의할 예정이다. 토트넘은 손흥민을 올 시즌까지 보유한 뒤 자유계약으로 떠나게 하는 데에도 만족하지만, 33세인 그가 새로운 도전을 원한다면 이적을 막지는 않을 계획이다. 손흥민은 토트넘 라커룸에서도 인기 있는 인물이며, 경기 내외적으로 매우 높은 평가를 받고 있다. 그렇기 때문에 구단은 손흥민이 지금 떠나기를 원하든, 1년 더 남기를 원하든 그 결정을 존중할 계획이다'고 덧붙였다. <저작권자(c) 연합뉴스, 무단 전재-재배포, AI 학습 및 활용 금지>손흥민은 토트넘 역사상 가장 상징적인 선수 중 한 명으로 평가받는다. 2015년 여름 바이엘 레버쿠젠을 떠나 토트넘에 입단한 그는, 약 10년 동안 클럽의 주축 공격수로 활약하며 토트넘을 대표하는 얼굴로 자리 잡았다. 프리미어리그(EPL) 득점왕, 발롱도르 11위, EPL 올해의 팀 등 손흥민은 토트넘에서 아시아 역대 최고 공격수로서 인정받았다. 지난 시즌 UEL 트로피까지 주장으로서 들어올리면서 구단 역대 최고 레전드 반열에 이름을 올리게 됐다. 어쩌면 한국 투어가 토트넘 소속인 손흥민의 모습을 보는 마지막이 될 수 있다. 김대식 기자구독 0응원 0구독'日 국대 기대주' 가수 김정민 차남, 연예인 아들+한국→일본행에 현지 관심 폭발...\"롤모델은 엘링 홀란\"'박지성 대체 실패' 맨유서 망한 일본 슈퍼스타 미친 근황, 36살에 '포변' 완벽 성공 \"유럽 경험 덕분\"스포츠조선언론사홈 바로가기Copyright ⓒ 스포츠조선. All rights reserved. 무단 전재 및 재배포 금지.기사 섹션 분류 가이드기사 섹션 분류 안내스포츠 기사 섹션(종목) 정보는 언론사 분류와 기술 기반의 자동 분류 시스템을 따르고 있습니다. 오분류에 대한 건은 네이버스포츠로 제보 부탁드립니다.오분류 제보하기닫기내 인생의 흐름이 궁금하다면? 무료 평생사주주요뉴스해당 언론사에서 선정하며 언론사 페이지(아웃링크)로 이동해 볼 수 있습니다.이하늬, 상반신 전체 노출 촬영에 분노..보이콧 선언KBS 전 아나운서, 폐암→암세포 뇌 전이 사망..오늘(25일) 7주기12명에 성폭행 당한 단역배우 자매 사망..母 \"딸을 죽인 건 경찰\"윤영미, 돌아가신 엄마 유산 받아 韓 떠났다 \"에르메스 대신 아들\"엄마와 딸 전남친이 수상한 관계라니..\"돈봉투 내밀며 쩔쩔\"좋아요0슬퍼요0화나요0팬이에요0후속기사 원해요0\n"
     ]
    }
   ],
   "source": [
    "print(document[0].page_content)"
   ]
  },
  {
   "cell_type": "code",
   "execution_count": 47,
   "id": "9bf3c147",
   "metadata": {},
   "outputs": [],
   "source": [
    "url = 'https://search.naver.com/search.naver?ssc=tab.news.all&query={}&sm=tab_opt&sort=0&photo=0&field=0&pd=1&ds=&de=&docid=&related=0&mynews=0&office_type=0&office_section_code=0&news_office_checked=&nso=so%3Ar%2Cp%3A1w&is_sug_officeid=0&office_category=0&service_area=0'"
   ]
  },
  {
   "cell_type": "code",
   "execution_count": 48,
   "id": "4e29f9de",
   "metadata": {},
   "outputs": [],
   "source": [
    "from langchain_openai import ChatOpenAI\n",
    "from langchain_core.prompts import PromptTemplate\n",
    "from langchain_core.output_parsers import PydanticOutputParser\n",
    "from pydantic import BaseModel, Field\n",
    "from typing import Literal"
   ]
  },
  {
   "cell_type": "code",
   "execution_count": 49,
   "id": "8427a332",
   "metadata": {},
   "outputs": [],
   "source": [
    "class SentimentArticle(BaseModel):\n",
    "    sentiment: Literal['긍정', '부정', '중립'] = Field(description=\"감성분석 분류\")\n",
    "    score: float = Field(description='감성분석 점수')"
   ]
  },
  {
   "cell_type": "code",
   "execution_count": 50,
   "id": "4dcfc499",
   "metadata": {},
   "outputs": [],
   "source": [
    "model = ChatOpenAI(\n",
    "    model='gpt-4.1',\n",
    "    temperature=0\n",
    ")\n",
    "parser = PydanticOutputParser(pydantic_object=SentimentArticle)"
   ]
  },
  {
   "cell_type": "code",
   "execution_count": 51,
   "id": "772176fb",
   "metadata": {},
   "outputs": [],
   "source": [
    "prompt_template = \"\"\"\n",
    "        당신은 뉴스 기사의 감성을 분석하는 AI입니다.\n",
    "        아래 뉴스를 읽고 감성을 '긍정', '부정', '중립' 중 하나로 분류하고, 기사 내용 요약을 json 형식으로 출력하세요.\n",
    "\n",
    "        {format_instructions}\n",
    "\n",
    "        뉴스 기사:\n",
    "        {news_article} \"\"\"\n",
    "\n",
    "    \n",
    "prompt = PromptTemplate(\n",
    "    template = prompt_template,\n",
    "    input_variables = ['news_artical'],\n",
    "    partial_variables= {'format_instructions': parser.get_format_instructions()}\n",
    "    \n",
    ")\n",
    "chain = prompt | model | parser"
   ]
  },
  {
   "cell_type": "code",
   "execution_count": 52,
   "id": "cdfa09bf",
   "metadata": {},
   "outputs": [],
   "source": [
    "import bs4\n",
    "from langchain_community.document_loaders import WebBaseLoader"
   ]
  },
  {
   "cell_type": "code",
   "execution_count": 53,
   "id": "7135c45e",
   "metadata": {},
   "outputs": [
    {
     "name": "stderr",
     "output_type": "stream",
     "text": [
      "<>:2: SyntaxWarning: invalid escape sequence '\\.'\n",
      "<>:2: SyntaxWarning: invalid escape sequence '\\.'\n",
      "/tmp/ipykernel_68029/3685637134.py:2: SyntaxWarning: invalid escape sequence '\\.'\n",
      "  p = re.compile(\"https://[mn]\\.[a-z]+\\.naver.com/.+\")\n"
     ]
    }
   ],
   "source": [
    "import re\n",
    "p = re.compile(\"https://[mn]\\.[a-z]+\\.naver.com/.+\")"
   ]
  },
  {
   "cell_type": "code",
   "execution_count": 54,
   "id": "f85a6c7f",
   "metadata": {},
   "outputs": [],
   "source": [
    "from urllib.parse import urlparse, parse_qs, urlencode\n",
    "import requests\n",
    "\n",
    "query_dict = parse_qs(urlparse(search_url).query)\n",
    "\n",
    "\n",
    "query_dict['query'] = ['이강인']\n",
    "search_host = \"https://s.search.naver.com/p/newssearch/3/api/tab/more?\"\n",
    "after_url = search_host + urlencode(query_dict, doseq=True)\n",
    "\n",
    "requests_json =  requests.get(after_url).json()\n",
    "urls = [x['href'] for x in bs4.BeautifulSoup(requests_json['collection'][0]['html']).find_all(\"a\", {'href' : p})]"
   ]
  },
  {
   "cell_type": "code",
   "execution_count": 55,
   "id": "be7f384d",
   "metadata": {},
   "outputs": [
    {
     "data": {
      "text/plain": [
       "['https://m.sports.naver.com/kfootball/article/108/0003351369',\n",
       " 'https://m.sports.naver.com/kfootball/article/001/0015521808',\n",
       " 'https://m.sports.naver.com/kfootball/article/425/0000168192',\n",
       " 'https://n.news.naver.com/mnews/article/417/0001091297?sid=101',\n",
       " 'https://n.news.naver.com/mnews/article/648/0000038198?sid=101',\n",
       " 'https://n.news.naver.com/mnews/article/030/0003335035?sid=101',\n",
       " 'https://n.news.naver.com/mnews/article/382/0001212703?sid=101',\n",
       " 'https://m.sports.naver.com/kfootball/article/109/0005358210',\n",
       " 'https://m.sports.naver.com/kfootball/article/108/0003350080']"
      ]
     },
     "execution_count": 55,
     "metadata": {},
     "output_type": "execute_result"
    }
   ],
   "source": [
    "urls"
   ]
  },
  {
   "cell_type": "code",
   "execution_count": 58,
   "id": "c9926602",
   "metadata": {},
   "outputs": [
    {
     "name": "stderr",
     "output_type": "stream",
     "text": [
      "<>:11: SyntaxWarning: invalid escape sequence '\\.'\n",
      "<>:11: SyntaxWarning: invalid escape sequence '\\.'\n",
      "/tmp/ipykernel_68029/1768953329.py:11: SyntaxWarning: invalid escape sequence '\\.'\n",
      "  p = re.compile(\"https://[mn]\\.[a-z]+\\.naver.com/.+\")\n"
     ]
    }
   ],
   "source": [
    "import json\n",
    "import bs4\n",
    "from langchain_community.document_loaders import WebBaseLoader\n",
    "from urllib.parse import urlparse, parse_qs, urlencode\n",
    "import requests\n",
    "import re\n",
    "import json\n",
    "\n",
    "\n",
    "search_url = \"https://s.search.naver.com/p/newssearch/3/api/tab/more?cluster_rank=98&de=2025.07.29&ds=2025.07.22&eid=&field=0&force_original=&is_dts=0&is_sug_officeid=0&mynews=0&news_office_checked=&nlu_query=&nqx_theme=%7B%22theme%22%3A%7B%22main%22%3A%7B%22name%22%3A%22people_sports%22%2C%22os%22%3A%22175558%22%2C%22source%22%3A%22NLU%22%2C%22pkid%22%3A%221%22%7D%7D%7D&nscs=0&nso=so%3Ar%2Cp%3A1w%2Ca%3Aall&nx_and_query=&nx_search_hlquery=&nx_search_query=&nx_sub_query=&office_category=0&office_section_code=0&office_type=0&pd=1&photo=0&query=%EC%86%90%ED%9D%A5%EB%AF%BC&query_original=&rev=0&service_area=0&sm=tab_smr&sort=0&spq=3&ssc=tab.news.all&start=61\"\n",
    "p = re.compile(\"https://[mn]\\.[a-z]+\\.naver.com/.+\")\n",
    "\n",
    "total  = []\n",
    "\n",
    "def sentimental_score(query):\n",
    "    \n",
    "    query_dict = parse_qs(urlparse(search_url).query)\n",
    "\n",
    "\n",
    "    query_dict['query'] = [f'{query}']\n",
    "    search_host = \"https://s.search.naver.com/p/newssearch/3/api/tab/more?\"\n",
    "    after_url = search_host + urlencode(query_dict, doseq=True)\n",
    "\n",
    "    requests_json =  requests.get(after_url).json()\n",
    "    urls = [x['href'] for x in bs4.BeautifulSoup(requests_json['collection'][0]['html']).find_all(\"a\", {'href' : p})]\n",
    "    \n",
    "    loader = WebBaseLoader(web_path=(urls),\n",
    "                    bs_kwargs=dict(parse_only=bs4.SoupStrainer(\n",
    "                        'div', attrs={'id' : ['newsct_article']}\n",
    "                    ))   )\n",
    "    \n",
    "    for i in loader.load():\n",
    "        text = i.page_content\n",
    "        rt = chain.invoke({'news_article':text})\n",
    "        tmp = json.loads(rt.model_dump_json())\n",
    "        tmp['source'] = i.metadata['source']\n",
    "        total.append(tmp)\n",
    "    return total\n",
    "    "
   ]
  },
  {
   "cell_type": "code",
   "execution_count": 59,
   "id": "7b307f02",
   "metadata": {},
   "outputs": [
    {
     "data": {
      "text/plain": [
       "[{'sentiment': '긍정',\n",
       "  'score': 0.95,\n",
       "  'source': 'https://n.news.naver.com/mnews/article/421/0008397722?sid=104'},\n",
       " {'sentiment': '긍정',\n",
       "  'score': 0.85,\n",
       "  'source': 'https://n.news.naver.com/mnews/article/215/0001218096?sid=101'},\n",
       " {'sentiment': '긍정',\n",
       "  'score': 0.8,\n",
       "  'source': 'https://n.news.naver.com/mnews/article/016/0002505869?sid=101'},\n",
       " {'sentiment': '긍정',\n",
       "  'score': 0.85,\n",
       "  'source': 'https://n.news.naver.com/mnews/article/092/0002383791?sid=105'},\n",
       " {'sentiment': '긍정',\n",
       "  'score': 0.9,\n",
       "  'source': 'https://n.news.naver.com/mnews/article/277/0005629006?sid=101'},\n",
       " {'sentiment': '긍정',\n",
       "  'score': 0.85,\n",
       "  'source': 'https://n.news.naver.com/mnews/article/018/0006075104?sid=101'},\n",
       " {'sentiment': '긍정',\n",
       "  'score': 0.9,\n",
       "  'source': 'https://n.news.naver.com/mnews/article/277/0005628772?sid=101'},\n",
       " {'sentiment': '긍정',\n",
       "  'score': 0.9,\n",
       "  'source': 'https://n.news.naver.com/mnews/article/008/0005227622?sid=101'},\n",
       " {'sentiment': '긍정',\n",
       "  'score': 0.85,\n",
       "  'source': 'https://n.news.naver.com/mnews/article/119/0002984276?sid=101'},\n",
       " {'sentiment': '중립',\n",
       "  'score': 0.0,\n",
       "  'source': 'https://n.news.naver.com/mnews/article/050/0000094255?sid=101'},\n",
       " {'sentiment': '긍정',\n",
       "  'score': 0.9,\n",
       "  'source': 'https://n.news.naver.com/mnews/article/055/0001279290?sid=101'},\n",
       " {'sentiment': '긍정',\n",
       "  'score': 0.85,\n",
       "  'source': 'https://n.news.naver.com/mnews/article/057/0001899330?sid=101'},\n",
       " {'sentiment': '긍정',\n",
       "  'score': 0.9,\n",
       "  'source': 'https://n.news.naver.com/mnews/article/003/0013391679?sid=101'}]"
      ]
     },
     "execution_count": 59,
     "metadata": {},
     "output_type": "execute_result"
    }
   ],
   "source": [
    "sentimental_score('삼성전자')"
   ]
  },
  {
   "cell_type": "code",
   "execution_count": 60,
   "id": "25c967a2",
   "metadata": {},
   "outputs": [],
   "source": [
    "from langchain_core.documents import Document\n",
    "\n",
    "docu = Document(page_content=\"문서 예시입니다. \")\n",
    "docu.metadata['source'] = 'playdata'\n",
    "docu.metadata['page'] = 'playdata'\n",
    "docu.metadata['article'] = 'playdata'"
   ]
  },
  {
   "cell_type": "code",
   "execution_count": 61,
   "id": "0e3c0d0a",
   "metadata": {},
   "outputs": [
    {
     "data": {
      "text/plain": [
       "Document(metadata={'source': 'playdata', 'page': 'playdata', 'article': 'playdata'}, page_content='문서 예시입니다. ')"
      ]
     },
     "execution_count": 61,
     "metadata": {},
     "output_type": "execute_result"
    }
   ],
   "source": [
    "docu"
   ]
  },
  {
   "cell_type": "code",
   "execution_count": 64,
   "id": "3684ca45",
   "metadata": {},
   "outputs": [],
   "source": [
    "from langchain_community.document_loaders import PyPDFLoader\n",
    "from langchain_text_splitters import RecursiveCharacterTextSplitter"
   ]
  },
  {
   "cell_type": "code",
   "execution_count": 65,
   "id": "dec94d61",
   "metadata": {},
   "outputs": [],
   "source": [
    "text_splitter = RecursiveCharacterTextSplitter(chunk_size=200, chunk_overlap=0)"
   ]
  },
  {
   "cell_type": "code",
   "execution_count": 66,
   "id": "8c3aa2c6",
   "metadata": {},
   "outputs": [],
   "source": [
    "loader = PyPDFLoader('/home/seorin0224/workspace/workset/7월/런팟(Runpod) 사용자 가이드_v1.0 (2).pdf')"
   ]
  },
  {
   "cell_type": "code",
   "execution_count": 67,
   "id": "bc786716",
   "metadata": {},
   "outputs": [],
   "source": [
    "split_docs = loader.load_and_split(text_splitter=text_splitter)"
   ]
  },
  {
   "cell_type": "code",
   "execution_count": 69,
   "id": "161e2ab9",
   "metadata": {},
   "outputs": [
    {
     "data": {
      "text/plain": [
       "210"
      ]
     },
     "execution_count": 69,
     "metadata": {},
     "output_type": "execute_result"
    }
   ],
   "source": [
    "len(split_docs)"
   ]
  },
  {
   "cell_type": "code",
   "execution_count": null,
   "id": "42b8c7da",
   "metadata": {},
   "outputs": [],
   "source": []
  }
 ],
 "metadata": {
  "kernelspec": {
   "display_name": "openai",
   "language": "python",
   "name": "python3"
  },
  "language_info": {
   "codemirror_mode": {
    "name": "ipython",
    "version": 3
   },
   "file_extension": ".py",
   "mimetype": "text/x-python",
   "name": "python",
   "nbconvert_exporter": "python",
   "pygments_lexer": "ipython3",
   "version": "3.12.11"
  }
 },
 "nbformat": 4,
 "nbformat_minor": 5
}
